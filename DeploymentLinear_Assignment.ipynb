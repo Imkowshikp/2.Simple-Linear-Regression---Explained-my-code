{
 "cells": [
  {
   "cell_type": "markdown",
   "id": "30020d55",
   "metadata": {},
   "source": [
    "# Kowshik P \n",
    "\n",
    "\n",
    "## Deployment Linear Assignment submitted on 04-Apr-2022\n",
    "\n",
    "\n"
   ]
  },
  {
   "cell_type": "code",
   "execution_count": null,
   "id": "c88bedfe",
   "metadata": {},
   "outputs": [],
   "source": [
    "# Deployment process for client side requirment(salary for 15 years of experienced person)\n",
    "\n",
    "import pickle;  # import \"pickle\" library\n",
    "\n",
    "# put \"finalModel_1.sav(file name)\" and \"rb(read)\" as parameter to \"load\" function and stored in \"result\" variable.\n",
    "load_model = pickle.load(open(\"finalModel_1.sav\", \"rb\"));\n",
    "\n",
    "# given independent value what we expect (salary for 15 years of experienced person) stored in \"result\" variable.\n",
    "result = load_model.predict([[15]]); \n",
    "\n",
    "result   # predicted and displayed\n",
    "\n"
   ]
  },
  {
   "cell_type": "code",
   "execution_count": 5,
   "id": "3c8a9de1",
   "metadata": {},
   "outputs": [
    {
     "data": {
      "text/plain": [
       "array([[26777.3913412]])"
      ]
     },
     "execution_count": 5,
     "metadata": {},
     "output_type": "execute_result"
    }
   ],
   "source": [
    "# client side requirment(salary for fresher candidate)\n",
    "\n",
    "# given independent value what we expect (salary for fresher candidate) stored in \"result\" variable.\n",
    "result = load_model.predict([[0]]);\n",
    "\n",
    "result   # predicted and displayed\n",
    "\n"
   ]
  },
  {
   "cell_type": "code",
   "execution_count": 6,
   "id": "395e8610",
   "metadata": {},
   "outputs": [
    {
     "data": {
      "text/plain": [
       "array([[354386.53635798]])"
      ]
     },
     "execution_count": 6,
     "metadata": {},
     "output_type": "execute_result"
    }
   ],
   "source": [
    "# client side requirment(salary for 35 years of experienced person)\n",
    "\n",
    "# given independent value what we expect (salary for 35 years of experienced person) stored in \"result\" variable.\n",
    "result = load_model.predict([[35]]);\n",
    "\n",
    "result   # predicted and displayed\n"
   ]
  },
  {
   "cell_type": "code",
   "execution_count": 8,
   "id": "9b731dec",
   "metadata": {},
   "outputs": [
    {
     "data": {
      "text/plain": [
       "array([[120380.00420313]])"
      ]
     },
     "execution_count": 8,
     "metadata": {},
     "output_type": "execute_result"
    }
   ],
   "source": [
    "# client side requirment(salary for 10 years of experienced person)\n",
    "\n",
    "# given independent value what we expect (salary for 10 years of experienced person) stored in \"result\" variable.\n",
    "result = load_model.predict([[10]]);\n",
    "\n",
    "result   # predicted and displayed\n",
    "\n"
   ]
  }
 ],
 "metadata": {
  "kernelspec": {
   "display_name": "Python 3 (ipykernel)",
   "language": "python",
   "name": "python3"
  },
  "language_info": {
   "codemirror_mode": {
    "name": "ipython",
    "version": 3
   },
   "file_extension": ".py",
   "mimetype": "text/x-python",
   "name": "python",
   "nbconvert_exporter": "python",
   "pygments_lexer": "ipython3",
   "version": "3.7.6"
  }
 },
 "nbformat": 4,
 "nbformat_minor": 5
}
